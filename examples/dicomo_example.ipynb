{
 "cells": [
  {
   "cell_type": "markdown",
   "metadata": {},
   "source": [
    "Examples for `dicomo.py` subpackage, (Co)-Moment Estimates\n",
    "====================================================\n",
    "To run a toy example, start by sourcing packages and data: "
   ]
  },
  {
   "cell_type": "code",
   "execution_count": 2,
   "metadata": {},
   "outputs": [
    {
     "ename": "ModuleNotFoundError",
     "evalue": "No module named 'direpack'",
     "output_type": "error",
     "traceback": [
      "\u001b[0;31m---------------------------------------------------------------------------\u001b[0m",
      "\u001b[0;31mModuleNotFoundError\u001b[0m                       Traceback (most recent call last)",
      "\u001b[0;32m<ipython-input-2-83d61f314bd8>\u001b[0m in \u001b[0;36m<module>\u001b[0;34m\u001b[0m\n\u001b[1;32m      4\u001b[0m \u001b[0;32mimport\u001b[0m \u001b[0mscipy\u001b[0m\u001b[0;34m.\u001b[0m\u001b[0mstats\u001b[0m \u001b[0;32mas\u001b[0m \u001b[0msps\u001b[0m\u001b[0;34m\u001b[0m\u001b[0;34m\u001b[0m\u001b[0m\n\u001b[1;32m      5\u001b[0m \u001b[0;32mimport\u001b[0m \u001b[0mstatsmodels\u001b[0m\u001b[0;34m.\u001b[0m\u001b[0mrobust\u001b[0m \u001b[0;32mas\u001b[0m \u001b[0msrs\u001b[0m\u001b[0;34m\u001b[0m\u001b[0;34m\u001b[0m\u001b[0m\n\u001b[0;32m----> 6\u001b[0;31m \u001b[0;32mfrom\u001b[0m \u001b[0mdirepack\u001b[0m \u001b[0;32mimport\u001b[0m \u001b[0mdicomo\u001b[0m\u001b[0;34m\u001b[0m\u001b[0;34m\u001b[0m\u001b[0m\n\u001b[0m\u001b[1;32m      7\u001b[0m \u001b[0;32mimport\u001b[0m \u001b[0mdcor\u001b[0m \u001b[0;32mas\u001b[0m \u001b[0mdc\u001b[0m\u001b[0;34m\u001b[0m\u001b[0;34m\u001b[0m\u001b[0m\n\u001b[1;32m      8\u001b[0m \u001b[0mdata\u001b[0m \u001b[0;34m=\u001b[0m \u001b[0mps\u001b[0m\u001b[0;34m.\u001b[0m\u001b[0mread_csv\u001b[0m\u001b[0;34m(\u001b[0m\u001b[0;34m\"../data/Returns_shares.csv\"\u001b[0m\u001b[0;34m)\u001b[0m\u001b[0;34m\u001b[0m\u001b[0;34m\u001b[0m\u001b[0m\n",
      "\u001b[0;31mModuleNotFoundError\u001b[0m: No module named 'direpack'"
     ]
    }
   ],
   "source": [
    "# Load data\n",
    "import pandas as ps\n",
    "import numpy as np\n",
    "import scipy.stats as sps\n",
    "import statsmodels.robust as srs\n",
    "from direpack import dicomo\n",
    "import dcor as dc\n",
    "data = ps.read_csv(\"../data/Returns_shares.csv\")\n",
    "columns = data.columns[2:8]\n",
    "(n,p) = data.shape\n",
    "datav = np.matrix(data.values[:,2:8].astype('float64'))\n",
    "y = datav[:,0]\n",
    "x = datav[:,1]"
   ]
  },
  {
   "cell_type": "markdown",
   "metadata": {},
   "source": [
    "Product-Moment Statistics\n",
    "=========================\n",
    "a) Moments\n",
    "----------\n",
    "Let's compare some moment estimates to `numpy`'s version. \n",
    "\n",
    " - Second moment: variance "
   ]
  },
  {
   "cell_type": "code",
   "execution_count": 2,
   "metadata": {},
   "outputs": [
    {
     "name": "stdout",
     "output_type": "stream",
     "text": [
      "Variance without finite sample correction estimated by dicomo:2.215229401588822\n",
      "Variance without finite sample correction estimated by numpy:2.215229401588822\n",
      "Variance with finite sample correction estimated by dicomo:2.215867244779605\n",
      "Variance with finite sample correction estimated by numpy:2.215867244779605\n",
      "Robust 10% trimmed variance:0.9490388467977009\n",
      "MAD ex dicomo:1.0656481228764316\n",
      "MAD ex statsmodels:[1.06564972]\n"
     ]
    }
   ],
   "source": [
    "# Variance \n",
    "covest = dicomo() \n",
    "# division by n\n",
    "print(\"Variance without finite sample correction estimated by dicomo:\" + str(covest.fit(x,biascorr=False)))\n",
    "print(\"Variance without finite sample correction estimated by numpy:\" + str(np.var(x)))\n",
    "        \n",
    "# division by n-1 \n",
    "print(\"Variance with finite sample correction estimated by dicomo:\" + str(covest.fit(x,biascorr=True)))\n",
    "print(\"Variance with finite sample correction estimated by numpy:\" + str(np.var(x)*n/(n-1)))\n",
    "        \n",
    "    \n",
    "# Robust trimmed variance: \n",
    "print(\"Robust 10% trimmed variance:\" + str(covest.fit(x,biascorr=False,trimming=.1)))\n",
    "        \n",
    "# Nonparametric Scale: MAD\n",
    "# NB at this point, this is the only exception where dicomo will yield scale instead of the moment itself\n",
    "covest.set_params(center='median')\n",
    "print(\"MAD ex dicomo:\" + str(covest.fit(x)))\n",
    "print(\"MAD ex statsmodels:\" + str(srs.mad(x)))\n"
   ]
  },
  {
   "cell_type": "markdown",
   "metadata": {},
   "source": [
    "- third moment and skewness: "
   ]
  },
  {
   "cell_type": "code",
   "execution_count": 3,
   "metadata": {},
   "outputs": [
    {
     "name": "stdout",
     "output_type": "stream",
     "text": [
      "{'center': 'mean', 'est': 'arithmetic', 'mode': 'mom'}\n",
      "Third moment estimated by dicomo:1.279657025702231\n",
      "Third moment estimated by scipy.stats:[1.27965703]\n",
      "Skewness estimated by dicomo without small sample correction:0.3881195552213815\n",
      "Skewness estimated by scipy without small sample correction:[0.38811956]\n",
      "Skewness estimated by dicomo with small sample correction:0.3882872295778527\n",
      "Skewness estimated by scipy with small sample correction:[0.38828723]\n"
     ]
    }
   ],
   "source": [
    "# Third Moment  \n",
    "# division by n\n",
    "covest.set_params(center='mean',mode='mom')\n",
    "print(covest.get_params())\n",
    "print(\"Third moment estimated by dicomo:\" + str(covest.fit(x,biascorr=False,order=3)))\n",
    "print(\"Third moment estimated by scipy.stats:\" + str(sps.moment(x,3)))\n",
    "        \n",
    "# skewness \n",
    "covest.set_params(mode='skew')\n",
    "print(\"Skewness estimated by dicomo without small sample correction:\" + str(covest.fit(x,biascorr=False)))\n",
    "print(\"Skewness estimated by scipy without small sample correction:\" + str(sps.skew(x)))\n",
    "print(\"Skewness estimated by dicomo with small sample correction:\" + str(covest.fit(x,biascorr=True)))\n",
    "print(\"Skewness estimated by scipy with small sample correction:\" + str(sps.skew(x,bias=False)))"
   ]
  },
  {
   "cell_type": "markdown",
   "metadata": {},
   "source": [
    "- Fourth Moment and Kurtosis"
   ]
  },
  {
   "cell_type": "code",
   "execution_count": 4,
   "metadata": {},
   "outputs": [
    {
     "name": "stdout",
     "output_type": "stream",
     "text": [
      "Fourth moment estimated by dicomo:88.13900011202283\n",
      "Fourth moment estimated by scipy.stats:[88.13900011]\n",
      "Fourth moment estimated by dicomo, 20% trimmed:0.846793760134836\n",
      "Kurtosis estimated by dicomo without any corrections:17.961007966358498\n",
      "Kurtosis estimated by scipy without any correction:[17.96100797]\n",
      "Kurtosis estimated by dicomo with small sample correction:17.984292234604137\n",
      "Kurtosis estimated by scipy with small sample correction:[17.98429223]\n",
      "Kurtosis estimated by dicomo with small sample and Fisher corrections:14.984292234604137\n",
      "Kurtosis estimated by scipy with small sample and Fisher corrections:[14.98429223]\n"
     ]
    }
   ],
   "source": [
    "# 4th Moment \n",
    "covest.set_params(mode='mom')\n",
    "print(\"Fourth moment estimated by dicomo:\" + str(covest.fit(x,biascorr=False,order=4)))\n",
    "print(\"Fourth moment estimated by scipy.stats:\" + str(sps.moment(x,4)))\n",
    "\n",
    "# Again, we can trim: \n",
    "print(\"Fourth moment estimated by dicomo, 20% trimmed:\" + str(covest.fit(x,biascorr=False,order=4,trimming=.2)))\n",
    "\n",
    "#Kurtosis \n",
    "covest.set_params(mode='kurt')\n",
    "print(\"Kurtosis estimated by dicomo without any corrections:\" + str(covest.fit(x,biascorr=False)))\n",
    "print(\"Kurtosis estimated by scipy without any correction:\" + str(sps.kurtosis(x,fisher=False,bias=True)))\n",
    "print(\"Kurtosis estimated by dicomo with small sample correction:\" + str(covest.fit(x,biascorr=True,Fisher=False)))\n",
    "print(\"Kurtosis estimated by scipy with small sample correction:\" + str(sps.kurtosis(x,fisher=False,bias=False)))\n",
    "print(\"Kurtosis estimated by dicomo with small sample and Fisher corrections:\" + str(covest.fit(x,biascorr=True,Fisher=True)))\n",
    "print(\"Kurtosis estimated by scipy with small sample and Fisher corrections:\" + str(sps.kurtosis(x,fisher=True,bias=False)))"
   ]
  },
  {
   "cell_type": "markdown",
   "metadata": {},
   "source": [
    "b) Co-Momemnts \n",
    "--------------\n",
    "- Second order co-moment"
   ]
  },
  {
   "cell_type": "code",
   "execution_count": 5,
   "metadata": {},
   "outputs": [
    {
     "name": "stdout",
     "output_type": "stream",
     "text": [
      "Covariance estimated by pandas:\n",
      "          KMB       XOM\n",
      "KMB  1.147585  0.748737\n",
      "XOM  0.748737  2.215867\n",
      "Covariance estimated by dicomo:0.7487368016330135\n",
      "10% Trimmed Covariance estimated by dicomo:0.2737112962842033\n"
     ]
    }
   ],
   "source": [
    "# Covariance \n",
    "covest.set_params(mode='com')\n",
    "print(\"Covariance estimated by pandas:\" + \"\\n\" + str(data.iloc[:,2:4].cov()))\n",
    "print(\"Covariance estimated by dicomo:\" + str(covest.fit(x,y=y,biascorr=True)))\n",
    "\n",
    "# Trimmed Covariance\n",
    "print(\"10% Trimmed Covariance estimated by dicomo:\" + str(covest.fit(x,y=y,biascorr=True,trimming=.1)))"
   ]
  },
  {
   "cell_type": "markdown",
   "metadata": {},
   "source": [
    "Note that `pandas` calculates covariance with small sample correction by default (division by n - 1)\n",
    "\n",
    "- Third order co-moments"
   ]
  },
  {
   "cell_type": "code",
   "execution_count": 6,
   "metadata": {},
   "outputs": [
    {
     "name": "stdout",
     "output_type": "stream",
     "text": [
      "Third co-moment estimated by dicomo:0.39009372779657664\n",
      "Co-skewness estimated by dicomo:0.1643360470693658\n"
     ]
    }
   ],
   "source": [
    "# Third order co-moment (x,x,y) \n",
    "covest.set_params(mode='com')\n",
    "print(\"Third co-moment estimated by dicomo:\" + str(covest.fit(x,y=y,biascorr=True,option=1,order=3)))\n",
    "# Co-skewness (x,x,y)\n",
    "covest.set_params(mode='cos')\n",
    "print(\"Co-skewness estimated by dicomo:\" + str(covest.fit(x,y=y,biascorr=True,option=1)))"
   ]
  },
  {
   "cell_type": "markdown",
   "metadata": {},
   "source": [
    "Note that is is difficult to find a benchmark to compare against. Some higher order co-moments can be found in the `R` package `PerformanceAnalytics`. A comparison to those is beyond the scope of this notebook.\n",
    "\n",
    "- Fourth order co-moments \n",
    "\n",
    "By now, we get how the class works."
   ]
  },
  {
   "cell_type": "code",
   "execution_count": 7,
   "metadata": {},
   "outputs": [
    {
     "name": "stdout",
     "output_type": "stream",
     "text": [
      "{'center': 'mean', 'est': 'arithmetic', 'mode': 'cok'}\n",
      "Co-kurtosis estimated integrally by dicomo:10.61624607049581\n"
     ]
    }
   ],
   "source": [
    "# Co-Kurtosis\n",
    "covest.set_params(mode='cok')\n",
    "print(covest.get_params())\n",
    "print(\"Co-kurtosis estimated integrally by dicomo:\" + str(covest.fit(x,y=y,biascorr=False,option=1)))\n",
    "\n",
    "\n",
    "\n"
   ]
  },
  {
   "cell_type": "markdown",
   "metadata": {},
   "source": [
    "- Correlation"
   ]
  },
  {
   "cell_type": "code",
   "execution_count": 8,
   "metadata": {},
   "outputs": [
    {
     "name": "stdout",
     "output_type": "stream",
     "text": [
      "Pearson correlation matrix estimated by pandas:\n",
      "          KMB       XOM\n",
      "KMB  1.000000  0.469532\n",
      "XOM  0.469532  1.000000\n",
      "Pearson correlation coefficient estimated by dicomo:0.4695316989336484\n",
      "10% trimmed Pearson correlation coefficient estimated by dicomo:0.3812162776658803\n"
     ]
    }
   ],
   "source": [
    "# Correlation \n",
    "covest.set_params(mode='corr')\n",
    "print(\"Pearson correlation matrix estimated by pandas:\" + \"\\n\" + str(data.iloc[:,2:4].corr()))\n",
    "print(\"Pearson correlation coefficient estimated by dicomo:\" + str(covest.fit(x,y=y)))\n",
    "\n",
    "# Will also do a trimmed version\n",
    "print(\"10% trimmed Pearson correlation coefficient estimated by dicomo:\" + str(covest.fit(x,y=y,trimming=.1)))"
   ]
  },
  {
   "cell_type": "markdown",
   "metadata": {},
   "source": [
    "- Moment Continuum\n",
    "\n",
    "The continuum option provides any estimate in the continuum from variance to correlation coefficient. The trimmed version of this option is the projection index in Robust Continuum Regression (RCR) \\[1\\]. Setting `alpha = 1` yeilds covariance; the higher alpha, the closer it will get to variance. Setting alpha closer to zero lets it approach Pearson correlation.  "
   ]
  },
  {
   "cell_type": "code",
   "execution_count": 9,
   "metadata": {},
   "outputs": [
    {
     "name": "stdout",
     "output_type": "stream",
     "text": [
      "{'center': 'mean', 'est': 'arithmetic', 'mode': 'continuum'}\n",
      "Covariance matrix estimated by pandas:\n",
      "          KMB       XOM\n",
      "KMB  1.147585  0.748737\n",
      "XOM  0.748737  2.215867\n",
      "Covariance estimated in dicomo continuum:0.7487368016330135\n",
      "Robust 10% trimmed continuum association:0.27549572197011707\n"
     ]
    }
   ],
   "source": [
    "# Continuum \n",
    "covest.set_params(mode='continuum')\n",
    "print(covest.get_params())\n",
    "print(\"Covariance matrix estimated by pandas:\" + \"\\n\" + str(data.iloc[:,2:4].cov()))\n",
    "print(\"Covariance estimated in dicomo continuum:\" + str(np.sqrt(covest.fit(x,y=y,alpha=1,biascorr=True))))\n",
    "print(\"Robust 10% trimmed continuum association:\" + str(np.sqrt(covest.fit(x,y=y,alpha=.5,biascorr=True,trimming=.1))))"
   ]
  },
  {
   "cell_type": "markdown",
   "metadata": {},
   "source": [
    "Energy Statistics\n",
    "=================\n",
    "- distance variance: "
   ]
  },
  {
   "cell_type": "code",
   "execution_count": 10,
   "metadata": {},
   "outputs": [
    {
     "name": "stdout",
     "output_type": "stream",
     "text": [
      "Distance Statistics estimated by dcov\n",
      "Stats(covariance_xy=0.7484726076018534, correlation_xy=1.0, variance_x=0.7484726076018534, variance_y=0.7484726076018534)\n",
      "Distance variance estimated by dicomo:0.7484726076018534\n",
      "Distance Statistics estimated by dcov\n",
      "[0.74773593 1.         0.74773593 0.74773593]\n",
      "Distance variance, unibiased in high dimension, estimated by dicomo:0.7477359326096299\n",
      "Distance variance, unibiased in high dimension, estimated by dicomo, naive calculation mode:\n",
      "0.7477359326096309\n"
     ]
    }
   ],
   "source": [
    "# Variance\n",
    "n=len(x)\n",
    "covest.set_params(est='distance',mode='var')\n",
    "print(\"Distance Statistics estimated by dcov\" + \"\\n\" +  str(dc.distance_stats(x,x)))\n",
    "print(\"Distance variance estimated by dicomo:\" + str(covest.fit(x,biascorr=False)))\n",
    "print(\"Distance Statistics estimated by dcov\" + \"\\n\" +  str(np.sqrt(dc.u_distance_stats_sqr(x,x))))\n",
    "print(\"Distance variance, unibiased in high dimension, estimated by dicomo:\" + str(covest.fit(x,biascorr=True)))\n",
    "print(\"Distance variance, unibiased in high dimension, estimated by dicomo, naive calculation mode:\" + \"\\n\" + str(covest.fit(x,biascorr=True,calcmode='slow')))\n",
    "# The default for var, cov is to run 'fast' calculation mode where possible"
   ]
  },
  {
   "cell_type": "markdown",
   "metadata": {},
   "source": [
    "Note that, just like for the product-moment statistics, there is an option to use different internal centring.\n",
    "Medians can be plugged in by setting `center='median'` and trimmed means can be plugged in by passing a trimming fraction. However, for energy statistics, it is unclear what the properties of the resulting estimate will be. "
   ]
  },
  {
   "cell_type": "code",
   "execution_count": 11,
   "metadata": {},
   "outputs": [
    {
     "data": {
      "text/plain": [
       "0.5663926271002551"
      ]
     },
     "execution_count": 11,
     "metadata": {},
     "output_type": "execute_result"
    }
   ],
   "source": [
    "covest.fit(x,biascorr=False,trimming=.1)"
   ]
  },
  {
   "cell_type": "markdown",
   "metadata": {},
   "source": [
    "- distance covariance:"
   ]
  },
  {
   "cell_type": "code",
   "execution_count": 12,
   "metadata": {},
   "outputs": [
    {
     "name": "stdout",
     "output_type": "stream",
     "text": [
      "Distance Covariance estimated by dcov: 0.24601858995627893\n",
      "Distance Covariance estimated by dicomo: 0.24601858995627893\n",
      "Distance Covariance estimated by dicomo, naive calculation mode: 0.24601858995627848\n"
     ]
    }
   ],
   "source": [
    "covest.set_params(mode='com')\n",
    "print(\"Distance Covariance estimated by dcov: \" +  str(dc.distance_covariance(x,y)))\n",
    "print(\"Distance Covariance estimated by dicomo: \" + str(covest.fit(x,y=y,biascorr=False)))\n",
    "print(\"Distance Covariance estimated by dicomo, naive calculation mode: \" + str(covest.fit(x,y=y,biascorr=False,calcmode='slow')))\n",
    "# The versions unbiased in high dimension, can be assessed as above"
   ]
  },
  {
   "cell_type": "markdown",
   "metadata": {},
   "source": [
    "- martingale difference divergence"
   ]
  },
  {
   "cell_type": "code",
   "execution_count": 13,
   "metadata": {},
   "outputs": [
    {
     "name": "stdout",
     "output_type": "stream",
     "text": [
      "Martingale difference divergence estimated by dicomo: 0.3524271500865358\n"
     ]
    }
   ],
   "source": [
    "covest.set_params(mode='mdd')\n",
    "print(\"Martingale difference divergence estimated by dicomo: \" +  str(covest.fit(x,y=y)))"
   ]
  },
  {
   "cell_type": "markdown",
   "metadata": {},
   "source": [
    "- distance correlation"
   ]
  },
  {
   "cell_type": "code",
   "execution_count": 14,
   "metadata": {},
   "outputs": [
    {
     "name": "stdout",
     "output_type": "stream",
     "text": [
      "Distance Correlation estimated by dcov: 0.37849170732226056\n",
      "Distance Correlation estimated by dicomo: 0.3784917073222605\n",
      "Distance Correlation estimated by dicomo, naive calculation mode: 0.3784917073222609\n"
     ]
    }
   ],
   "source": [
    "covest.set_params(mode='corr')\n",
    "print(\"Distance Correlation estimated by dcov: \" +  str(dc.distance_correlation(x,y)))\n",
    "print(\"Distance Correlation estimated by dicomo: \" + str(covest.fit(x,y=y)))\n",
    "print(\"Distance Correlation estimated by dicomo, naive calculation mode: \" + str(covest.fit(x,y=y,calcmode='slow')))"
   ]
  },
  {
   "cell_type": "markdown",
   "metadata": {},
   "source": [
    "- martingale difference correlation: "
   ]
  },
  {
   "cell_type": "code",
   "execution_count": 15,
   "metadata": {},
   "outputs": [
    {
     "name": "stdout",
     "output_type": "stream",
     "text": [
      "Martingale difference correlation estimated by dicomo: 0.4483749967586672\n"
     ]
    }
   ],
   "source": [
    "covest.set_params(mode='mdc')\n",
    "print(\"Martingale difference correlation estimated by dicomo: \" +  str(covest.fit(x,y=y)))"
   ]
  },
  {
   "cell_type": "markdown",
   "metadata": {},
   "source": [
    "- distance continuum association: "
   ]
  },
  {
   "cell_type": "code",
   "execution_count": 16,
   "metadata": {},
   "outputs": [
    {
     "name": "stdout",
     "output_type": "stream",
     "text": [
      "Distance Covariance estimated by dcov: 0.24601858995627893\n",
      "Distance Covariance estimated through continuum: 0.24601858995627893\n",
      "Distance Continuum Association with small alpha: 0.2603176544258383\n"
     ]
    }
   ],
   "source": [
    "covest.set_params(mode='continuum')\n",
    "print(\"Distance Covariance estimated by dcov: \" +  str(dc.distance_covariance(x,y)))\n",
    "print(\"Distance Covariance estimated through continuum: \" + str(np.sqrt(covest.fit(x,y=y,alpha=1,biascorr=False)))) \n",
    "print(\"Distance Continuum Association with small alpha: \" + str(np.sqrt(covest.fit(x,y=y,alpha=.22,biascorr=False))))"
   ]
  },
  {
   "cell_type": "code",
   "execution_count": null,
   "metadata": {},
   "outputs": [],
   "source": []
  },
  {
   "cell_type": "code",
   "execution_count": null,
   "metadata": {},
   "outputs": [],
   "source": []
  }
 ],
 "metadata": {
  "@webio": {
   "lastCommId": null,
   "lastKernelId": null
  },
  "kernelspec": {
   "display_name": "pp",
   "language": "python",
   "name": "pp"
  },
  "language_info": {
   "codemirror_mode": {
    "name": "ipython",
    "version": 3
   },
   "file_extension": ".py",
   "mimetype": "text/x-python",
   "name": "python",
   "nbconvert_exporter": "python",
   "pygments_lexer": "ipython3",
   "version": "3.7.2"
  }
 },
 "nbformat": 4,
 "nbformat_minor": 2
}

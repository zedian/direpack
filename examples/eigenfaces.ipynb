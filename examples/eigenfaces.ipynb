{
 "cells": [
  {
   "cell_type": "markdown",
   "metadata": {},
   "source": [
    "Load data"
   ]
  },
  {
   "cell_type": "code",
   "execution_count": 1,
   "metadata": {},
   "outputs": [
    {
     "name": "stdout",
     "output_type": "stream",
     "text": [
      "appnope==0.1.0\r\n",
      "attrs==19.3.0\r\n",
      "backcall==0.1.0\r\n",
      "bleach==3.1.4\r\n",
      "certifi==2020.4.5.1\r\n",
      "cycler==0.10.0\r\n",
      "Cython==0.29.17\r\n",
      "dcor==0.4\r\n",
      "decorator==4.4.2\r\n",
      "defusedxml==0.6.0\r\n",
      "direpack==1.0.0\r\n",
      "entrypoints==0.3\r\n",
      "future==0.18.2\r\n",
      "importlib-metadata==1.5.0\r\n",
      "ipopt==0.1.9\r\n",
      "ipykernel==5.1.4\r\n",
      "ipython==7.13.0\r\n",
      "ipython-genutils==0.2.0\r\n",
      "ipywidgets==7.5.1\r\n",
      "jedi==0.17.0\r\n",
      "Jinja2==2.11.2\r\n",
      "joblib==0.14.1\r\n",
      "jsonschema==3.2.0\r\n",
      "jupyter==1.0.0\r\n",
      "jupyter-client==6.1.3\r\n",
      "jupyter-console==6.1.0\r\n",
      "jupyter-core==4.6.3\r\n",
      "kiwisolver==1.2.0\r\n",
      "llvmlite==0.32.1\r\n",
      "MarkupSafe==1.1.1\r\n",
      "matplotlib==3.2.1\r\n",
      "mistune==0.8.4\r\n",
      "mpmath==1.1.0\r\n",
      "nbconvert==5.6.1\r\n",
      "nbformat==5.0.6\r\n",
      "notebook==6.0.3\r\n",
      "numba==0.49.1\r\n",
      "numpy==1.18.4\r\n",
      "opencv-python==4.2.0.34\r\n",
      "pandas==1.0.3\r\n",
      "pandocfilters==1.4.2\r\n",
      "parso==0.7.0\r\n",
      "patsy==0.5.1\r\n",
      "pexpect==4.8.0\r\n",
      "pickleshare==0.7.5\r\n",
      "Pillow==7.1.2\r\n",
      "prometheus-client==0.7.1\r\n",
      "prompt-toolkit==3.0.4\r\n",
      "ptyprocess==0.6.0\r\n",
      "Pygments==2.6.1\r\n",
      "pyparsing==2.4.7\r\n",
      "pyrsistent==0.16.0\r\n",
      "python-dateutil==2.8.1\r\n",
      "pytz==2020.1\r\n",
      "pyzmq==18.1.1\r\n",
      "qtconsole==4.7.3\r\n",
      "QtPy==1.9.0\r\n",
      "scikit-learn==0.22.2.post1\r\n",
      "scipy==1.4.1\r\n",
      "Send2Trash==1.5.0\r\n",
      "six==1.14.0\r\n",
      "sklearn==0.0\r\n",
      "statsmodels==0.11.1\r\n",
      "sympy==1.5.1\r\n",
      "terminado==0.8.3\r\n",
      "testpath==0.4.4\r\n",
      "tornado==6.0.4\r\n",
      "tqdm==4.46.0\r\n",
      "traitlets==4.3.3\r\n",
      "wcwidth==0.1.9\r\n",
      "webencodings==0.5.1\r\n",
      "widgetsnbextension==3.5.1\r\n",
      "zipp==3.1.0\r\n"
     ]
    }
   ],
   "source": [
    "!pip freeze"
   ]
  },
  {
   "cell_type": "code",
   "execution_count": null,
   "metadata": {},
   "outputs": [],
   "source": [
    "!wget -O a3_face_dataset.tar.gz https://www.dropbox.com/s/4nmsiafyvw0o5fx/a3_face_dataset.tar.gz?dl=0"
   ]
  },
  {
   "cell_type": "code",
   "execution_count": null,
   "metadata": {},
   "outputs": [],
   "source": [
    "!tar xzf a3_face_dataset.tar.gz\n",
    "!ls"
   ]
  },
  {
   "cell_type": "code",
   "execution_count": null,
   "metadata": {},
   "outputs": [],
   "source": [
    "import glob\n",
    "import matplotlib.pyplot as plt\n",
    "from IPython.display import display, Image\n",
    "\n",
    "# Display the first images from the dataset. You can also browse these by\n",
    "# navigating through the notebooks file system!\n",
    "sample_images = glob.glob('a3_face_dataset/*.jpg')[:5]\n",
    "for file_path in sample_images:\n",
    "  #display(Image(file_path))\n",
    "    x = 1"
   ]
  },
  {
   "cell_type": "code",
   "execution_count": null,
   "metadata": {},
   "outputs": [],
   "source": [
    "import cv2\n",
    "import numpy as np\n",
    "\n",
    "# Load images in greyscale.\n",
    "image_paths = list(glob.glob('a3_face_dataset/*.jpg'))\n",
    "images = np.stack([cv2.imread(str(x), cv2.IMREAD_GRAYSCALE) \n",
    "                   for x in image_paths])\n",
    "print('Original Image Shape (N, H, W):', images.shape)"
   ]
  },
  {
   "cell_type": "code",
   "execution_count": null,
   "metadata": {},
   "outputs": [],
   "source": [
    "import PIL\n",
    "try:\n",
    "    import Image\n",
    "except ImportError:\n",
    "    from PIL import Image\n",
    "# Helper function for cropping the center of the image to remove the background\n",
    "# and only keep the face.\n",
    "def center_crop(img):\n",
    "    h, w = img.shape\n",
    "    center_y, center_x = h // 2, w // 2\n",
    "    offset_y, offset_x = center_y // 2, center_x // 2\n",
    "    return img[center_y - offset_y: center_y + offset_y,\n",
    "               center_x - offset_x: center_x + offset_x]\n",
    "  \n",
    "# Center crop our images.\n",
    "images = np.stack([center_crop(img) for img in images])\n",
    "img_height, img_width = images.shape[1:3]\n",
    "print('Cropped Image Shape (N, H, W):', images.shape)\n",
    "\n",
    "# Visualize a few results.\n",
    "for i in range(5):\n",
    "  display(PIL.Image.fromarray(images[i]))"
   ]
  },
  {
   "cell_type": "code",
   "execution_count": null,
   "metadata": {},
   "outputs": [],
   "source": [
    "# Flatten the images into a (N, HxW) sized array, where N is the number of \n",
    "# images and H, W are the dimensions of the image.\n",
    "num_images = len(images)\n",
    "images = images.reshape(num_images, -1)\n",
    "print('Matrix Shape (N, H*W):', images.shape)"
   ]
  },
  {
   "cell_type": "code",
   "execution_count": null,
   "metadata": {},
   "outputs": [],
   "source": [
    "import sklearn.decomposition as skd"
   ]
  },
  {
   "cell_type": "code",
   "execution_count": null,
   "metadata": {},
   "outputs": [],
   "source": [
    "num_components = 4\n",
    "\n",
    "pca = skd.PCA(n_components = num_components)\n",
    "transformed = pca.fit_transform(images)"
   ]
  },
  {
   "cell_type": "code",
   "execution_count": null,
   "metadata": {},
   "outputs": [],
   "source": [
    "import matplotlib.pyplot as plt\n",
    "\n",
    "def plot_gallery(images, titles, h, w, n_row=3, n_col=4):\n",
    "    \"\"\"Helper function to plot a gallery of portraits\"\"\"\n",
    "    plt.figure(figsize=(1.8 * n_col, 2.4 * n_row))\n",
    "    plt.subplots_adjust(bottom=0, left=.01, right=.99, top=.90, hspace=.35)\n",
    "    for i in range(n_row * n_col):\n",
    "        plt.subplot(n_row, n_col, i + 1)\n",
    "        plt.imshow(images[i].reshape((h, w)), cmap=plt.cm.gray)\n",
    "        plt.title(titles[i], size=12)\n",
    "        plt.xticks(())\n",
    "        plt.yticks(())"
   ]
  },
  {
   "cell_type": "code",
   "execution_count": null,
   "metadata": {},
   "outputs": [],
   "source": [
    "projected = pca.inverse_transform(transformed)\n",
    "\n",
    "plot_gallery(images[:30], range(30), img_height, img_width, 5, 6)\n",
    "plot_gallery(projected[:30], range(30), img_height, img_width, 5, 6)"
   ]
  },
  {
   "cell_type": "code",
   "execution_count": null,
   "metadata": {},
   "outputs": [],
   "source": [
    "from direpack import dicomo, ppdire"
   ]
  },
  {
   "cell_type": "code",
   "execution_count": null,
   "metadata": {},
   "outputs": [],
   "source": [
    "pppca = ppdire(projection_index = dicomo, \n",
    "               pi_arguments = {'mode' : 'var'}, \n",
    "               n_components=num_components, \n",
    "               optimizer='grid', \n",
    "               optimizer_options={'ndir':100,'maxiter':100})"
   ]
  },
  {
   "cell_type": "code",
   "execution_count": null,
   "metadata": {},
   "outputs": [],
   "source": [
    "%time pppca.fit(images[:5])"
   ]
  },
  {
   "cell_type": "code",
   "execution_count": null,
   "metadata": {},
   "outputs": [],
   "source": [
    "import os\n",
    "\n",
    "# Output directory.\n",
    "os.makedirs('./eigenfaces/', exist_ok=True)\n",
    "\n",
    "# Visualize the mean face.\n",
    "print('Saving mean face...', end='')\n",
    "mean_face = pca.mean_.reshape(img_height, img_width)\n",
    "norm_img = cv2.normalize(mean_face, None, 0, 255, cv2.NORM_MINMAX).astype(np.uint8)\n",
    "cv2.imwrite('./eigenfaces/mean_face.png', norm_img)\n",
    "print('Done.')\n",
    "\n",
    "# TODO: Visualize the first few eigenfaces, and save them as './eigenfaces/eigenface_{i}.png'.\n",
    "# Don't forget to normalize the image like the the mean face example above.\n",
    "print('Saving first ten eigen-faces to ./outputs/...', end='')\n",
    "eigenfaces = pca.components_.reshape(num_components, img_height, img_width)[:10]\n",
    "print(pca.components_.shape)\n",
    "# --> Your code here <--\n",
    "for i, img in enumerate(eigenfaces[:10]):\n",
    "    norm_img = cv2.normalize(img, None, 0, 255, cv2.NORM_MINMAX).astype(np.uint8)\n",
    "    cv2.imwrite('./eigenfaces/eigenface_{}.png'.format(i), norm_img)\n",
    "print('Done.')\n",
    "\n",
    "# Display the mean face and eigenfaces. You can also browse these by\n",
    "# navigating through the notebooks file system!\n",
    "print('Mean Face')\n",
    "display(Image.open('./eigenfaces/mean_face.png'))\n",
    "\n",
    "print('Eigenfaces')\n",
    "for i in range(10):\n",
    "  display(Image.open(f'./eigenfaces/eigenface_{i}.png'))"
   ]
  },
  {
   "cell_type": "code",
   "execution_count": null,
   "metadata": {},
   "outputs": [],
   "source": []
  },
  {
   "cell_type": "code",
   "execution_count": null,
   "metadata": {},
   "outputs": [],
   "source": []
  }
 ],
 "metadata": {
  "kernelspec": {
   "display_name": "pp-conda",
   "language": "python",
   "name": "pp-conda"
  },
  "language_info": {
   "codemirror_mode": {
    "name": "ipython",
    "version": 3
   },
   "file_extension": ".py",
   "mimetype": "text/x-python",
   "name": "python",
   "nbconvert_exporter": "python",
   "pygments_lexer": "ipython3",
   "version": "3.8.2"
  }
 },
 "nbformat": 4,
 "nbformat_minor": 4
}
